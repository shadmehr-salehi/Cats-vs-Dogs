{
  "cells": [
    {
      "cell_type": "markdown",
      "id": "4e052294",
      "metadata": {},
      "source": [
        "#### Dependencies"
      ]
    },
    {
      "cell_type": "code",
      "execution_count": 30,
      "id": "d43abc49",
      "metadata": {
        "id": "d43abc49"
      },
      "outputs": [],
      "source": [
        "import os\n",
        "import zipfile\n",
        "import random\n",
        "import shutil\n",
        "import tensorflow as tf\n",
        "from tensorflow.keras.preprocessing.image import ImageDataGenerator\n",
        "from shutil import copyfile\n",
        "import matplotlib.pyplot as plt"
      ]
    },
    {
      "cell_type": "markdown",
      "id": "ff864852",
      "metadata": {},
      "source": [
        "#### Download the dataset from its original source by running the cell below."
      ]
    },
    {
      "cell_type": "code",
      "execution_count": 31,
      "id": "dfe8528d",
      "metadata": {
        "colab": {
          "base_uri": "https://localhost:8080/"
        },
        "id": "dfe8528d",
        "outputId": "869a3d3c-a0c6-4796-b765-40d760398d40"
      },
      "outputs": [
        {
          "name": "stdout",
          "output_type": "stream",
          "text": [
            "--2023-08-01 14:09:25--  https://download.microsoft.com/download/3/E/1/3E1C3F21-ECDB-4869-8368-6DEBA77B919F/kagglecatsanddogs_5340.zip\n",
            "Resolving download.microsoft.com (download.microsoft.com)... 23.212.72.155, 2600:1404:6400:1583::317f, 2600:1404:6400:1595::317f\n",
            "Connecting to download.microsoft.com (download.microsoft.com)|23.212.72.155|:443... connected.\n",
            "HTTP request sent, awaiting response... 200 OK\n",
            "Length: 824887076 (787M) [application/octet-stream]\n",
            "Saving to: ‘/tmp/cats-and-dogs.zip’\n",
            "\n",
            "/tmp/cats-and-dogs. 100%[===================>] 786.67M   113MB/s    in 10s     \n",
            "\n",
            "2023-08-01 14:09:36 (78.5 MB/s) - ‘/tmp/cats-and-dogs.zip’ saved [824887076/824887076]\n",
            "\n"
          ]
        }
      ],
      "source": [
        "\n",
        "!wget --no-check-certificate \"https://download.microsoft.com/download/3/E/1/3E1C3F21-ECDB-4869-8368-6DEBA77B919F/kagglecatsanddogs_5340.zip\" -O \"/tmp/cats-and-dogs.zip\"\n",
        "\n",
        "local_zip = '/tmp/cats-and-dogs.zip'\n",
        "zip_ref   = zipfile.ZipFile(local_zip, 'r')\n",
        "zip_ref.extractall('/tmp')\n",
        "zip_ref.close()"
      ]
    },
    {
      "cell_type": "code",
      "execution_count": 32,
      "id": "76034c9d",
      "metadata": {
        "colab": {
          "base_uri": "https://localhost:8080/"
        },
        "id": "76034c9d",
        "outputId": "68b4e11a-a12c-4461-8457-e3dff76597ed"
      },
      "outputs": [
        {
          "name": "stdout",
          "output_type": "stream",
          "text": [
            "There are 12500 images of dogs.\n",
            "There are 12500 images of cats.\n"
          ]
        }
      ],
      "source": [
        "source_path = '/tmp/PetImages'\n",
        "\n",
        "source_path_dogs = os.path.join(source_path, 'Dog')\n",
        "source_path_cats = os.path.join(source_path, 'Cat')\n",
        "\n",
        "\n",
        "print(f\"There are {len(os.listdir(source_path_dogs))} images of dogs.\")\n",
        "print(f\"There are {len(os.listdir(source_path_cats))} images of cats.\")"
      ]
    },
    {
      "cell_type": "markdown",
      "id": "13c33a4f",
      "metadata": {},
      "source": [
        "#### Create directory for cats-v-dogs, and subdirectories for training"
      ]
    },
    {
      "cell_type": "code",
      "execution_count": 34,
      "id": "1e6c840a",
      "metadata": {
        "cellView": "code",
        "id": "1e6c840a"
      },
      "outputs": [],
      "source": [
        "\n",
        "root_dir = '/tmp/cats-v-dogs'\n",
        "\n",
        "if os.path.exists(root_dir):\n",
        "  shutil.rmtree(root_dir)\n",
        "\n",
        "def create_train_val_dirs(root_dir):\n",
        "  training_dir = os.path.join(root_dir, \"training\")\n",
        "  validation_dir = os.path.join(root_dir, \"validation\")\n",
        "\n",
        "  training_cats_dir = os.path.join(training_dir, \"cats\")\n",
        "  training_dogs_dir = os.path.join(training_dir, \"dogs\")\n",
        "\n",
        "  validation_cats_dir = os.path.join(validation_dir, \"cats\")\n",
        "  validation_dogs_dir = os.path.join(validation_dir, \"dogs\")\n",
        "\n",
        "  os.makedirs(training_cats_dir, exist_ok=True)\n",
        "  os.makedirs(training_dogs_dir, exist_ok=True)\n",
        "  os.makedirs(validation_cats_dir, exist_ok=True)\n",
        "  os.makedirs(validation_dogs_dir, exist_ok=True)\n"
      ]
    },
    {
      "cell_type": "code",
      "execution_count": 35,
      "id": "08f735fe",
      "metadata": {
        "colab": {
          "base_uri": "https://localhost:8080/"
        },
        "id": "08f735fe",
        "outputId": "b31a2ebc-9e3c-4178-f508-4bb88305df75"
      },
      "outputs": [
        {
          "name": "stdout",
          "output_type": "stream",
          "text": [
            "/tmp/cats-v-dogs/training\n",
            "/tmp/cats-v-dogs/validation\n",
            "/tmp/cats-v-dogs/training/cats\n",
            "/tmp/cats-v-dogs/training/dogs\n",
            "/tmp/cats-v-dogs/validation/cats\n",
            "/tmp/cats-v-dogs/validation/dogs\n"
          ]
        }
      ],
      "source": [
        "for rootdir, dirs, files in os.walk(root_dir):\n",
        "    for subdir in dirs:\n",
        "        print(os.path.join(rootdir, subdir))"
      ]
    },
    {
      "cell_type": "markdown",
      "id": "a40982e2",
      "metadata": {},
      "source": [
        "#### Split Data into Training and Test Sets"
      ]
    },
    {
      "cell_type": "code",
      "execution_count": 20,
      "id": "e1c123a7",
      "metadata": {
        "cellView": "code",
        "id": "e1c123a7"
      },
      "outputs": [],
      "source": [
        "\n",
        "def split_data(SOURCE_DIR, TRAINING_DIR, VALIDATION_DIR, SPLIT_SIZE):\n",
        "  files  = os.listdir(SOURCE_DIR)\n",
        "  random.shuffle(files)\n",
        "  split_index = int(SPLIT_SIZE * len(files))\n",
        "  training_files = files[:split_index]\n",
        "  validation_files = files[split_index:]\n",
        "\n",
        "  for file in training_files:\n",
        "    file_path = os.path.join(SOURCE_DIR, file)\n",
        "    if os.path.getsize(file_path) > 0:\n",
        "      shutil.copy(file_path, os.path.join(TRAINING_DIR, file))\n",
        "    else:\n",
        "      print(f\"{file} is zero length, so ignoring.\")\n",
        "\n",
        "  for file in validation_files:\n",
        "    file_path = os.path.join(SOURCE_DIR, file)\n",
        "    if os.path.getsize(file_path) > 0:\n",
        "      shutil.copy(file_path, os.path.join(VALIDATION_DIR, file))\n",
        "    else:\n",
        "      print(f\"{file} is zero length, so ignoring.\")\n"
      ]
    },
    {
      "cell_type": "code",
      "execution_count": 21,
      "id": "7f488106",
      "metadata": {
        "colab": {
          "base_uri": "https://localhost:8080/"
        },
        "id": "7f488106",
        "outputId": "02f8e55b-e099-47b8-c879-8ca8d67d1338"
      },
      "outputs": [
        {
          "name": "stdout",
          "output_type": "stream",
          "text": [
            "666.jpg is zero length, so ignoring.\n",
            "11702.jpg is zero length, so ignoring.\n",
            "\n",
            "\n",
            "Original cat's directory has 12500 images\n",
            "Original dog's directory has 12500 images\n",
            "\n",
            "There are 11249 images of cats for training\n",
            "There are 11249 images of dogs for training\n",
            "There are 1250 images of cats for validation\n",
            "There are 1250 images of dogs for validation\n"
          ]
        }
      ],
      "source": [
        "CAT_SOURCE_DIR = \"/tmp/PetImages/Cat/\"\n",
        "DOG_SOURCE_DIR = \"/tmp/PetImages/Dog/\"\n",
        "\n",
        "TRAINING_DIR = \"/tmp/cats-v-dogs/training/\"\n",
        "VALIDATION_DIR = \"/tmp/cats-v-dogs/validation/\"\n",
        "\n",
        "TRAINING_CATS_DIR = os.path.join(TRAINING_DIR, \"cats/\")\n",
        "VALIDATION_CATS_DIR = os.path.join(VALIDATION_DIR, \"cats/\")\n",
        "\n",
        "TRAINING_DOGS_DIR = os.path.join(TRAINING_DIR, \"dogs/\")\n",
        "VALIDATION_DOGS_DIR = os.path.join(VALIDATION_DIR, \"dogs/\")\n",
        "\n",
        "if len(os.listdir(TRAINING_CATS_DIR)) > 0:\n",
        "  for file in os.scandir(TRAINING_CATS_DIR):\n",
        "    os.remove(file.path)\n",
        "if len(os.listdir(TRAINING_DOGS_DIR)) > 0:\n",
        "  for file in os.scandir(TRAINING_DOGS_DIR):\n",
        "    os.remove(file.path)\n",
        "if len(os.listdir(VALIDATION_CATS_DIR)) > 0:\n",
        "  for file in os.scandir(VALIDATION_CATS_DIR):\n",
        "    os.remove(file.path)\n",
        "if len(os.listdir(VALIDATION_DOGS_DIR)) > 0:\n",
        "  for file in os.scandir(VALIDATION_DOGS_DIR):\n",
        "    os.remove(file.path)\n",
        "\n",
        "split_size = .9\n",
        "\n",
        "split_data(CAT_SOURCE_DIR, TRAINING_CATS_DIR, VALIDATION_CATS_DIR, split_size)\n",
        "split_data(DOG_SOURCE_DIR, TRAINING_DOGS_DIR, VALIDATION_DOGS_DIR, split_size)\n",
        "\n",
        "\n",
        "print(f\"\\n\\nOriginal cat's directory has {len(os.listdir(CAT_SOURCE_DIR))} images\")\n",
        "print(f\"Original dog's directory has {len(os.listdir(DOG_SOURCE_DIR))} images\\n\")\n",
        "\n",
        "print(f\"There are {len(os.listdir(TRAINING_CATS_DIR))} images of cats for training\")\n",
        "print(f\"There are {len(os.listdir(TRAINING_DOGS_DIR))} images of dogs for training\")\n",
        "print(f\"There are {len(os.listdir(VALIDATION_CATS_DIR))} images of cats for validation\")\n",
        "print(f\"There are {len(os.listdir(VALIDATION_DOGS_DIR))} images of dogs for validation\")"
      ]
    },
    {
      "cell_type": "markdown",
      "id": "3c842c8e",
      "metadata": {},
      "source": [
        "#### Use image generators to generate our data from directories"
      ]
    },
    {
      "cell_type": "code",
      "execution_count": 22,
      "id": "24714cb2",
      "metadata": {
        "cellView": "code",
        "id": "24714cb2"
      },
      "outputs": [],
      "source": [
        "def train_val_generators(TRAINING_DIR, VALIDATION_DIR):\n",
        "  train_datagen = ImageDataGenerator(rescale=1/255)\n",
        "  train_generator = train_datagen.flow_from_directory(directory=TRAINING_DIR,batch_size=20,class_mode='binary',target_size=(150 , 150))\n",
        "  validation_datagen = ImageDataGenerator(rescale=1/255)\n",
        "  validation_generator = validation_datagen.flow_from_directory(directory=VALIDATION_DIR,batch_size=20,class_mode='binary',target_size=(150, 150))\n",
        "  return train_generator, validation_generator"
      ]
    },
    {
      "cell_type": "code",
      "execution_count": 23,
      "id": "0a13c894",
      "metadata": {
        "colab": {
          "base_uri": "https://localhost:8080/"
        },
        "id": "0a13c894",
        "outputId": "1f59acfe-0e65-45aa-eae4-e62eda304e8f"
      },
      "outputs": [
        {
          "name": "stdout",
          "output_type": "stream",
          "text": [
            "Found 22498 images belonging to 2 classes.\n",
            "Found 2500 images belonging to 2 classes.\n"
          ]
        }
      ],
      "source": [
        "train_generator, validation_generator = train_val_generators(TRAINING_DIR, VALIDATION_DIR)"
      ]
    },
    {
      "cell_type": "markdown",
      "id": "8401b9eb",
      "metadata": {},
      "source": [
        "#### Create our CNN model"
      ]
    },
    {
      "cell_type": "code",
      "execution_count": 24,
      "id": "2141d195",
      "metadata": {
        "cellView": "code",
        "id": "2141d195"
      },
      "outputs": [],
      "source": [
        "from tensorflow.keras.optimizers import RMSprop\n",
        "\n",
        "def create_model():\n",
        "  \n",
        "  model = tf.keras.models.Sequential([\n",
        "    tf.keras.layers.Conv2D(16, (3,3), activation='relu', input_shape=(150, 150, 3)),\n",
        "    tf.keras.layers.MaxPooling2D(2,2),\n",
        "    tf.keras.layers.Conv2D(32, (3,3), activation='relu'),\n",
        "    tf.keras.layers.MaxPooling2D(2,2),\n",
        "    tf.keras.layers.Conv2D(64, (3,3), activation='relu'),\n",
        "    tf.keras.layers.MaxPooling2D(2,2),\n",
        "    tf.keras.layers.Conv2D(128, (3,3), activation='relu'),\n",
        "    tf.keras.layers.MaxPooling2D(2,2),\n",
        "    tf.keras.layers.Flatten(),\n",
        "    tf.keras.layers.Dense(512, activation='relu'),\n",
        "    tf.keras.layers.Dense(256, activation='relu'),\n",
        "    tf.keras.layers.Dense(1, activation='sigmoid')\n",
        "])\n",
        "  model.compile(optimizer=RMSprop(learning_rate=0.001),loss='binary_crossentropy',metrics=['accuracy'])\n",
        "  return model"
      ]
    },
    {
      "cell_type": "code",
      "execution_count": 25,
      "id": "87cbef80",
      "metadata": {
        "colab": {
          "base_uri": "https://localhost:8080/"
        },
        "id": "87cbef80",
        "outputId": "dd7a3485-e961-41b8-da7a-fc9b7bf38dc6"
      },
      "outputs": [
        {
          "name": "stdout",
          "output_type": "stream",
          "text": [
            "Epoch 1/15\n",
            "1125/1125 [==============================] - ETA: 0s - loss: 0.5902 - accuracy: 0.6721"
          ]
        },
        {
          "name": "stderr",
          "output_type": "stream",
          "text": [
            "/usr/local/lib/python3.10/dist-packages/PIL/TiffImagePlugin.py:858: UserWarning: Truncated File Read\n",
            "  warnings.warn(str(msg))\n"
          ]
        },
        {
          "name": "stdout",
          "output_type": "stream",
          "text": [
            "\b\b\b\b\b\b\b\b\b\b\b\b\b\b\b\b\b\b\b\b\b\b\b\b\b\b\b\b\b\b\b\b\b\b\b\b\b\b\b\b\b\b\b\b\b\b\b\b\b\b\b\b\b\b\b\b\b\b\b\b\b\b\b\b\b\b\b\b\b\b\b\b\b\b\b\b\b\b\b\b\b\b\b\b\b\b\r1125/1125 [==============================] - 67s 45ms/step - loss: 0.5902 - accuracy: 0.6721 - val_loss: 0.4717 - val_accuracy: 0.7704\n",
            "Epoch 2/15\n",
            "1125/1125 [==============================] - 49s 44ms/step - loss: 0.4606 - accuracy: 0.7820 - val_loss: 0.4296 - val_accuracy: 0.8088\n",
            "Epoch 3/15\n",
            "1125/1125 [==============================] - 48s 42ms/step - loss: 0.3782 - accuracy: 0.8322 - val_loss: 0.3415 - val_accuracy: 0.8516\n",
            "Epoch 4/15\n",
            "1125/1125 [==============================] - 48s 43ms/step - loss: 0.3132 - accuracy: 0.8634 - val_loss: 0.3478 - val_accuracy: 0.8512\n",
            "Epoch 5/15\n",
            "1125/1125 [==============================] - 47s 41ms/step - loss: 0.2587 - accuracy: 0.8949 - val_loss: 0.3023 - val_accuracy: 0.8728\n",
            "Epoch 6/15\n",
            "1125/1125 [==============================] - 48s 43ms/step - loss: 0.2157 - accuracy: 0.9137 - val_loss: 0.2992 - val_accuracy: 0.8760\n",
            "Epoch 7/15\n",
            "1125/1125 [==============================] - 48s 42ms/step - loss: 0.1721 - accuracy: 0.9348 - val_loss: 0.4004 - val_accuracy: 0.8564\n",
            "Epoch 8/15\n",
            "1125/1125 [==============================] - 48s 42ms/step - loss: 0.1473 - accuracy: 0.9445 - val_loss: 0.2964 - val_accuracy: 0.8724\n",
            "Epoch 9/15\n",
            "1125/1125 [==============================] - 47s 42ms/step - loss: 0.1217 - accuracy: 0.9566 - val_loss: 0.4125 - val_accuracy: 0.8792\n",
            "Epoch 10/15\n",
            "1125/1125 [==============================] - 47s 41ms/step - loss: 0.1080 - accuracy: 0.9630 - val_loss: 0.5172 - val_accuracy: 0.8784\n",
            "Epoch 11/15\n",
            "1125/1125 [==============================] - 48s 43ms/step - loss: 0.1021 - accuracy: 0.9670 - val_loss: 0.4924 - val_accuracy: 0.8824\n",
            "Epoch 12/15\n",
            "1125/1125 [==============================] - 48s 43ms/step - loss: 0.0914 - accuracy: 0.9702 - val_loss: 1.1193 - val_accuracy: 0.8380\n",
            "Epoch 13/15\n",
            "1125/1125 [==============================] - 47s 42ms/step - loss: 0.0880 - accuracy: 0.9730 - val_loss: 0.9949 - val_accuracy: 0.8708\n",
            "Epoch 14/15\n",
            "1125/1125 [==============================] - 48s 42ms/step - loss: 0.0799 - accuracy: 0.9750 - val_loss: 0.6990 - val_accuracy: 0.8768\n",
            "Epoch 15/15\n",
            "1125/1125 [==============================] - 47s 41ms/step - loss: 0.0765 - accuracy: 0.9784 - val_loss: 0.9597 - val_accuracy: 0.8836\n"
          ]
        }
      ],
      "source": [
        "model = create_model()\n",
        "history = model.fit(train_generator,epochs=15,verbose=1,validation_data=validation_generator)"
      ]
    },
    {
      "cell_type": "code",
      "execution_count": 26,
      "id": "32146607",
      "metadata": {
        "colab": {
          "base_uri": "https://localhost:8080/",
          "height": 882
        },
        "id": "32146607",
        "outputId": "1485d8fd-acff-4db5-c9c3-9ed2d56de806"
      },
      "outputs": [
        {
          "data": {
            "image/png": "[encoded data removed]",
            "text/plain": [
              "<Figure size 640x480 with 1 Axes>"
            ]
          },
          "metadata": {},
          "output_type": "display_data"
        },
        {
          "name": "stdout",
          "output_type": "stream",
          "text": [
            "\n"
          ]
        },
        {
          "data": {
            "image/png": "[encoded data removed]",
            "text/plain": [
              "<Figure size 640x480 with 1 Axes>"
            ]
          },
          "metadata": {},
          "output_type": "display_data"
        }
      ],
      "source": [
        "# get training datas\n",
        "acc=history.history['accuracy']\n",
        "val_acc=history.history['val_accuracy']\n",
        "loss=history.history['loss']\n",
        "val_loss=history.history['val_loss']\n",
        "\n",
        "epochs=range(len(acc)) \n",
        "\n",
        "# Plot training and validation accuracy per epoch\n",
        "#------------------------------------------------\n",
        "plt.plot(epochs, acc, 'r', \"Training Accuracy\")\n",
        "plt.plot(epochs, val_acc, 'b', \"Validation Accuracy\")\n",
        "plt.title('Training and validation accuracy')\n",
        "plt.show()\n",
        "print(\"\")\n",
        "\n",
        "# Plot training and validation loss per epoch\n",
        "#------------------------------------------------\n",
        "plt.plot(epochs, loss, 'r', \"Training Loss\")\n",
        "plt.plot(epochs, val_loss, 'b', \"Validation Loss\")\n",
        "plt.show()"
      ]
    },
    {
      "cell_type": "markdown",
      "id": "5a12142e",
      "metadata": {},
      "source": [
        "As you can see our model has reacher almost 89% with bigger dataset with the same CNN.<br>\n",
        "And This is good =) <br>\n",
        "Thanks for reading this notebook, I hope you enjoyed it and learned something new.<br>"
      ]
    }
  ],
  "metadata": {
    "accelerator": "GPU",
    "colab": {
      "provenance": []
    },
    "kernelspec": {
      "display_name": "Python 3",
      "language": "python",
      "name": "python3"
    },
    "language_info": {
      "codemirror_mode": {
        "name": "ipython",
        "version": 3
      },
      "file_extension": ".py",
      "mimetype": "text/x-python",
      "name": "python",
      "nbconvert_exporter": "python",
      "pygments_lexer": "ipython3",
      "version": "3.7.4"
    }
  },
  "nbformat": 4,
  "nbformat_minor": 5
}
